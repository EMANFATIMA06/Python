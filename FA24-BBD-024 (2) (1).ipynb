{
 "cells": [
  {
   "cell_type": "code",
   "execution_count": 12,
   "id": "37c54a9f-ba58-4818-86f7-9fa5248d40a7",
   "metadata": {},
   "outputs": [
    {
     "name": "stdout",
     "output_type": "stream",
     "text": [
      "EMAN  \n",
      "18\n",
      "lahore\n"
     ]
    }
   ],
   "source": [
    "### QUESTION # 1 ###\n",
    "class person:\n",
    "     def __init__(self,name,age,city):\n",
    "         self.name = name\n",
    "         self.age = age\n",
    "         self.city = city\n",
    "info = person(\"EMAN  \" ,18, \"lahore\")\n",
    "print(info.name)\n",
    "print(info.age)\n",
    "print(info.city)"
   ]
  },
  {
   "cell_type": "code",
   "execution_count": 10,
   "id": "1d8b5968-603b-44ec-a6c8-5242fe99383e",
   "metadata": {},
   "outputs": [
    {
     "name": "stdout",
     "output_type": "stream",
     "text": [
      "COROLLA(E10)\n",
      "2022\n"
     ]
    }
   ],
   "source": [
    "### QUESTION # 2 ###\n",
    "class car:\n",
    "    def __init__(self,model,year):\n",
    "        self.model = model\n",
    "        self.year = year\n",
    "my_car = car(\"COROLLA(E10)\" , 2022)\n",
    "print(my_car.model)\n",
    "print(my_car.year)"
   ]
  },
  {
   "cell_type": "code",
   "execution_count": 39,
   "id": "b49e4c82-9fec-49c6-84b2-0454545ac8e7",
   "metadata": {},
   "outputs": [
    {
     "name": "stdin",
     "output_type": "stream",
     "text": [
      "ENTER RADIUS:  3\n"
     ]
    },
    {
     "name": "stdout",
     "output_type": "stream",
     "text": [
      "3\n",
      "28.26\n",
      "56.57142857142857\n"
     ]
    }
   ],
   "source": [
    "### QUESTION # 3 ###\n",
    "class circle:\n",
    "     def __init__(self,radius):\n",
    "         self.radius=radius\n",
    "     def area_of_circle(self):\n",
    "        pi = 3.14\n",
    "        area = pi * (self.radius ** 2)\n",
    "        return area\n",
    "     def circumference_circle(self):\n",
    "         pi = 22/7\n",
    "         circumference = 2*pi*(self.radius ** 2)\n",
    "         return circumference\n",
    "radius = int(input(\"ENTER RADIUS: \"))\n",
    "circle1 = circle(radius)\n",
    "print( circle1.radius)\n",
    "print( circle1.area_of_circle())\n",
    "print(circle1.circumference_circle())"
   ]
  },
  {
   "cell_type": "code",
   "execution_count": 26,
   "id": "f448b433-a138-4550-af34-a503376d403b",
   "metadata": {},
   "outputs": [
    {
     "name": "stdin",
     "output_type": "stream",
     "text": [
      "ENTER LENGTH :  2\n",
      "ENTER WIDTH :  2\n"
     ]
    },
    {
     "name": "stdout",
     "output_type": "stream",
     "text": [
      "AREA OF RECTANGLE IS :  4\n",
      "PERIMETER OF RECTANGLE IS :  8\n"
     ]
    }
   ],
   "source": [
    "### QUESTION # 4 ###\n",
    "class rectangle:\n",
    "    def __init__(self,length,width):\n",
    "        self.length = length\n",
    "        self.width = width\n",
    "    def area(self):\n",
    "        area_of_rectangle=(self.length)*(self.width)\n",
    "        return area_of_rectangle\n",
    "    def perimeter(self):\n",
    "        perimeter_of_rectangle = 2*self.length + 2*self.width\n",
    "        return  perimeter_of_rectangle\n",
    "length  = int(input(\"ENTER LENGTH : \"))\n",
    "width =  int(input(\"ENTER WIDTH : \"))\n",
    "lw = rectangle(length,width)\n",
    "area_of_rectagle = lw.area()\n",
    "print(\"AREA OF RECTANGLE IS : \",area_of_rectangle)\n",
    "perimeter_of_rectangle = lw.perimeter()\n",
    "print(\"PERIMETER OF RECTANGLE IS : \",perimeter_of_rectangle)"
   ]
  },
  {
   "cell_type": "code",
   "execution_count": null,
   "id": "a96c4a68-2bf6-4240-9772-3f059c2c17c4",
   "metadata": {},
   "outputs": [],
   "source": [
    "### QUESTION # 5 ###\n",
    "class student:\n",
    "    def __init__(self,name, roll_number, marks,number_of_subjects):\n",
    "        self.name = name\n",
    "        self.roll_number = roll_number\n",
    "        self.marks = marks\n",
    "        self.number_of_subjects = number_of_subjects\n",
    "    def average_marks(self):\n",
    "       average = self.marks/self.number_of_subjects\n",
    "       return average\n",
    "name = (input(\"ENTER STUDENT NAME : \"))\n",
    "roll_number = int(input(\"ENTER ROLL NO. : \"))\n",
    "marks = int(input(\"ENTER TOTAL MARKS : \"))\n",
    "number_of_subjects = int(input(\"ENTER TOTAL NUMBER OF SUBJECTS : \"))\n",
    "info = student(name, roll_number, marks,number_of_subjects)\n",
    "print(\"STUDENT NAME: \", info.name)\n",
    "print(\"STUDENT ROLL_NO.: \", info.roll_number)\n",
    "average = info.average_marks()\n",
    "print(\"STUDENT AVERAGE MARKS: \",average)"
   ]
  },
  {
   "cell_type": "markdown",
   "id": "9c3e4739-c089-4e13-b88f-d0e47619a208",
   "metadata": {},
   "source": []
  },
  {
   "cell_type": "code",
   "execution_count": 15,
   "id": "4b6714bf-aab6-4aa8-95ae-fdc95e071b1b",
   "metadata": {},
   "outputs": [
    {
     "name": "stdout",
     "output_type": "stream",
     "text": [
      "NAMAL\n",
      "NIMRA AHMAD\n",
      "2022\n"
     ]
    }
   ],
   "source": [
    "### QUESTION # 6 ###\n",
    "class book:\n",
    "     def __init__(self,title, author, publication_year):\n",
    "         self.title=title\n",
    "         self.author=author\n",
    "         self.publication_year=publication_year\n",
    "my_book = book(\"NAMAL\" ,\"NIMRA AHMAD\", 2022)\n",
    "print(my_book.title)\n",
    "print(my_book.author)\n",
    "print(my_book.publication_year)"
   ]
  },
  {
   "cell_type": "code",
   "execution_count": 16,
   "id": "10b70677-7562-4a13-9e5b-63afccf17cf2",
   "metadata": {},
   "outputs": [
    {
     "name": "stdout",
     "output_type": "stream",
     "text": [
      "ALI\n",
      "5000000\n",
      "CEO\n"
     ]
    }
   ],
   "source": [
    " ### QUESTION # 7 ###\n",
    "class employee:\n",
    "    def __init__(self,name, salary,designation):\n",
    "        self.name=name\n",
    "        self.salary=salary\n",
    "        self.designation=designation\n",
    "employee1 = employee(\"ALI\" ,5000000, \"CEO\")\n",
    "print(employee1.name)\n",
    "print(employee1.salary)\n",
    "print(employee1.designation)"
   ]
  },
  {
   "cell_type": "code",
   "execution_count": 36,
   "id": "5003f68f-3975-41b5-a34e-b7ea0706be3f",
   "metadata": {},
   "outputs": [
    {
     "name": "stdout",
     "output_type": "stream",
     "text": [
      "Deposited 200. New balance is 700.\n",
      "Withdrew 100. New balance is 600.\n",
      "Account balance: 600\n"
     ]
    }
   ],
   "source": [
    "### QUESTION # 8 ###\n",
    "class bank:\n",
    "    def __init__(self,name,account_no,balance):\n",
    "        self.name=name\n",
    "        self.account_no=account_no\n",
    "        self.balance=balance\n",
    "    def deposit(self, amount):\n",
    "        if amount > 0:\n",
    "            self.balance += amount\n",
    "            print(f\"Deposited {amount}. New balance is {self.balance}.\")\n",
    "        else:\n",
    "            print(\"Deposit amount must be positive.\")\n",
    "\n",
    "    def withdraw(self, amount):\n",
    "        if amount > 0:\n",
    "            if amount <= self.balance:\n",
    "                self.balance -= amount\n",
    "                print(f\"Withdrew {amount}. New balance is {self.balance}.\")\n",
    "            else:\n",
    "                print(\"Insufficient funds.\")\n",
    "        else:\n",
    "            print(\"Withdrawal amount must be positive.\")\n",
    "\n",
    "    def check_balance(self):\n",
    "        print(f\"Account balance: {self.balance}\")\n",
    "account = bank(\"NOOR\", \"1234567890\", 500)\n",
    "account.deposit(200)    \n",
    "account.withdraw(100)   \n",
    "account.check_balance()"
   ]
  },
  {
   "cell_type": "code",
   "execution_count": null,
   "id": "ae25214b-3007-4320-829a-256cfd1ebffd",
   "metadata": {},
   "outputs": [],
   "source": []
  },
  {
   "cell_type": "markdown",
   "id": "d2097976-1eab-492e-a03e-4fbf349152c8",
   "metadata": {
    "jp-MarkdownHeadingCollapsed": true
   },
   "source": []
  },
  {
   "cell_type": "markdown",
   "id": "340c8a35-79f6-4962-8ac0-54610ce05d8d",
   "metadata": {},
   "source": []
  }
 ],
 "metadata": {
  "kernelspec": {
   "display_name": "Python 3 (ipykernel)",
   "language": "python",
   "name": "python3"
  },
  "language_info": {
   "codemirror_mode": {
    "name": "ipython",
    "version": 3
   },
   "file_extension": ".py",
   "mimetype": "text/x-python",
   "name": "python",
   "nbconvert_exporter": "python",
   "pygments_lexer": "ipython3",
   "version": "3.12.4"
  }
 },
 "nbformat": 4,
 "nbformat_minor": 5
}
