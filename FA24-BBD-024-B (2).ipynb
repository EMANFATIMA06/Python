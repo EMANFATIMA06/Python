{
 "cells": [
  {
   "cell_type": "code",
   "execution_count": 4,
   "id": "f6cfcbcd-8e14-4830-905c-34cb231c62d1",
   "metadata": {},
   "outputs": [
    {
     "name": "stdout",
     "output_type": "stream",
     "text": [
      "hello EMAN 2024-11-30 11:52:55.361269\n"
     ]
    }
   ],
   "source": [
    "###### 1 ######\n",
    "import datetime\n",
    "def greet_with_time(name):\n",
    "    current_time = datetime.datetime.now()\n",
    "    print(\"hello\",name,current_time)\n",
    "greet_with_time(\"EMAN\")"
   ]
  },
  {
   "cell_type": "code",
   "execution_count": 16,
   "id": "781d69f2-71d6-4ac5-9bb1-2e4cc55f72e9",
   "metadata": {},
   "outputs": [
    {
     "name": "stdin",
     "output_type": "stream",
     "text": [
      "ENTER MARKS OF SUB1:  12\n",
      "ENTER MARKS OF SUB2:  12\n",
      "ENTER MARKS OF SUB3:  12\n"
     ]
    },
    {
     "name": "stdout",
     "output_type": "stream",
     "text": [
      "12.0\n"
     ]
    }
   ],
   "source": [
    "###### 2 ######\n",
    "def average_num(sub1,sub2,sub3):\n",
    "    average=(sub1+sub2+sub3)/3\n",
    "    return average\n",
    "sub1 = int(input(\"ENTER MARKS OF SUB1: \"))\n",
    "sub2 = int(input(\"ENTER MARKS OF SUB2: \"))\n",
    "sub3 = int(input(\"ENTER MARKS OF SUB3: \"))\n",
    "result = average_num(sub1,sub2,sub3)\n",
    "print(result)"
   ]
  },
  {
   "cell_type": "code",
   "execution_count": 20,
   "id": "36b9fc24-3601-4213-9362-cafc03398621",
   "metadata": {},
   "outputs": [
    {
     "name": "stdin",
     "output_type": "stream",
     "text": [
      "ENTER PRICE:  2500\n",
      "ENTER DISCOUNT_PERCENTAGE:  10\n"
     ]
    },
    {
     "name": "stdout",
     "output_type": "stream",
     "text": [
      "2250.0\n"
     ]
    }
   ],
   "source": [
    "###### 3 ######\n",
    "def calculate_discount(price,discount_percentage):\n",
    "    discount=price*(discount_percentage/100)\n",
    "    total_discount = price-discount\n",
    "    return total_discount\n",
    "price = int(input(\"ENTER PRICE: \"))\n",
    "discount_percentage = int(input(\"ENTER DISCOUNT_PERCENTAGE: \"))\n",
    "total = calculate_discount(price,discount_percentage)\n",
    "print(total)"
   ]
  },
  {
   "cell_type": "code",
   "execution_count": 23,
   "id": "41aab07a-a3a6-4e6a-ba35-0d4c6802f738",
   "metadata": {},
   "outputs": [
    {
     "name": "stdout",
     "output_type": "stream",
     "text": [
      "EMAN 18 LAHORE\n"
     ]
    }
   ],
   "source": [
    "###### 4 ######\n",
    "def print_info(name,age,city):\n",
    "    print(name,age,city)\n",
    "print_info(\"EMAN\",18,\"LAHORE\")"
   ]
  },
  {
   "cell_type": "code",
   "execution_count": 40,
   "id": "d46af037-6bec-4a65-827a-b773dc3d4451",
   "metadata": {},
   "outputs": [
    {
     "name": "stdin",
     "output_type": "stream",
     "text": [
      "ENTER LIST OF NUMBER: 43\n",
      "ENTER LIST OF NUMBER: 534\n",
      "ENTER LIST OF NUMBER: 21\n",
      "ENTER LIST OF NUMBER: 444\n"
     ]
    },
    {
     "name": "stdout",
     "output_type": "stream",
     "text": [
      "MAXIMUM NUMBER IN THE LIST IS : 534\n"
     ]
    }
   ],
   "source": [
    "###### 5 ######\n",
    "def find_max(list1):\n",
    "    max_num = list1[0] \n",
    "    for i in list1:\n",
    "      if i > max_num:\n",
    "        max_num = i\n",
    "    return max_num\n",
    "list1=[]\n",
    "num1= int(input(\"ENTER LIST OF NUMBER:\"))\n",
    "list1.append(num1)\n",
    "num2= int(input(\"ENTER LIST OF NUMBER:\"))\n",
    "list1.append(num2)\n",
    "num3= int(input(\"ENTER LIST OF NUMBER:\"))\n",
    "list1.append(num3)\n",
    "num4= int(input(\"ENTER LIST OF NUMBER:\"))\n",
    "list1.append(num4)\n",
    "result = find_max(list1)\n",
    "print(\"MAXIMUM NUMBER IN THE LIST IS :\" , result)\n",
    "        "
   ]
  },
  {
   "cell_type": "code",
   "execution_count": 38,
   "id": "a5a84336-8418-42a4-b3f8-e8ec68727d09",
   "metadata": {},
   "outputs": [
    {
     "name": "stdin",
     "output_type": "stream",
     "text": [
      "ENTER NUMBER:  5\n"
     ]
    },
    {
     "name": "stdout",
     "output_type": "stream",
     "text": [
      "120\n"
     ]
    }
   ],
   "source": [
    "###### 6 ######\n",
    "def factorial_num(number):\n",
    "    factorial = 1\n",
    "    while(number>=1):\n",
    "      factorial= factorial*number\n",
    "      number-=1\n",
    "    return factorial\n",
    "number = int(input(\"ENTER NUMBER: \"))\n",
    "total = factorial_num(number)\n",
    "print(total)\n",
    "    "
   ]
  },
  {
   "cell_type": "code",
   "execution_count": 45,
   "id": "1efd4eb6-39a1-43c5-a660-f7644ff9b5ec",
   "metadata": {},
   "outputs": [
    {
     "name": "stdin",
     "output_type": "stream",
     "text": [
      "ENTER LIST OF NUMBER: 3\n",
      "ENTER LIST OF NUMBER: 4\n",
      "ENTER LIST OF NUMBER: 2\n",
      "ENTER LIST OF NUMBER: 2\n"
     ]
    },
    {
     "name": "stdout",
     "output_type": "stream",
     "text": [
      "[9, 16, 4, 4]\n"
     ]
    }
   ],
   "source": [
    "###### 7 ######\n",
    "def apply_function(list1):\n",
    "     list2 = []\n",
    "     for i in list1:\n",
    "        total= i**2\n",
    "        list2.append(total)\n",
    "     return list2\n",
    "list1=[]\n",
    "num1= int(input(\"ENTER LIST OF NUMBER:\"))\n",
    "list1.append(num1)\n",
    "num2= int(input(\"ENTER LIST OF NUMBER:\"))\n",
    "list1.append(num2)\n",
    "num3= int(input(\"ENTER LIST OF NUMBER:\"))\n",
    "list1.append(num3)\n",
    "num4= int(input(\"ENTER LIST OF NUMBER:\"))\n",
    "list1.append(num4)\n",
    "new_list=apply_function(list1)\n",
    "print(new_list)\n"
   ]
  },
  {
   "cell_type": "code",
   "execution_count": null,
   "id": "42bcde35-9f5d-451e-830f-67e32e4174d1",
   "metadata": {},
   "outputs": [],
   "source": []
  }
 ],
 "metadata": {
  "kernelspec": {
   "display_name": "Python 3 (ipykernel)",
   "language": "python",
   "name": "python3"
  },
  "language_info": {
   "codemirror_mode": {
    "name": "ipython",
    "version": 3
   },
   "file_extension": ".py",
   "mimetype": "text/x-python",
   "name": "python",
   "nbconvert_exporter": "python",
   "pygments_lexer": "ipython3",
   "version": "3.12.4"
  }
 },
 "nbformat": 4,
 "nbformat_minor": 5
}
